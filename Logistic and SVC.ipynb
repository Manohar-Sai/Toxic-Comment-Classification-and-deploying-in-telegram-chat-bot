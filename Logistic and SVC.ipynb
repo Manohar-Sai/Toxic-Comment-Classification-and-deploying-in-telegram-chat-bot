{
  "nbformat": 4,
  "nbformat_minor": 0,
  "metadata": {
    "kernelspec": {
      "display_name": "Python 3",
      "language": "python",
      "name": "python3"
    },
    "language_info": {
      "codemirror_mode": {
        "name": "ipython",
        "version": 3
      },
      "file_extension": ".py",
      "mimetype": "text/x-python",
      "name": "python",
      "nbconvert_exporter": "python",
      "pygments_lexer": "ipython3",
      "version": "3.7.2"
    },
    "colab": {
      "name": "Toxic_Comment_Classification.ipynb",
      "provenance": [],
      "collapsed_sections": []
    }
  },
  "cells": [
    {
      "cell_type": "markdown",
      "metadata": {
        "id": "8bKyJCKAjMm2"
      },
      "source": [
        "# Toxic Comment Classification"
      ]
    },
    {
      "cell_type": "markdown",
      "metadata": {
        "id": "iM7AORAyjMnI"
      },
      "source": [
        "## Importing required packages"
      ]
    },
    {
      "cell_type": "code",
      "metadata": {
        "ExecuteTime": {
          "end_time": "2018-12-07T00:53:04.959800Z",
          "start_time": "2018-12-07T00:53:03.578688Z"
        },
        "id": "vAA_mWG8jMnK"
      },
      "source": [
        "import pandas as pd\n",
        "import numpy as np\n",
        "import re\n",
        "import string\n",
        "from nltk.stem.wordnet import WordNetLemmatizer\n",
        "from nltk.corpus import stopwords\n",
        "from timeit import default_timer as timer\n",
        "import matplotlib.pyplot as plt\n",
        "import seaborn as sns\n",
        "\n",
        "from sklearn.feature_extraction.text import TfidfVectorizer\n",
        "from sklearn.linear_model import LogisticRegression\n",
        "from sklearn.naive_bayes import MultinomialNB\n",
        "from sklearn.svm import LinearSVC\n",
        "from sklearn.ensemble import RandomForestClassifier\n",
        "from sklearn.tree import DecisionTreeClassifier\n",
        "from sklearn.metrics import accuracy_score, f1_score, recall_score, precision_score, roc_auc_score, roc_curve\n",
        "from sklearn.metrics import confusion_matrix\n",
        "from sklearn.model_selection import cross_val_score\n",
        "from sklearn.metrics import fbeta_score\n",
        "from statistics import mean\n",
        "from sklearn.metrics import hamming_loss\n",
        "from sklearn.model_selection import StratifiedKFold\n",
        "from sklearn.model_selection import GridSearchCV\n",
        "from sklearn.model_selection import ShuffleSplit\n",
        "from sklearn.model_selection import learning_curve\n",
        "from sklearn.metrics import roc_auc_score, confusion_matrix\n",
        "import statistics\n",
        "from sklearn.metrics import recall_score\n",
        "\n",
        "from collections import Counter\n",
        "\n",
        "from sklearn.pipeline import Pipeline\n",
        "from google.colab import drive\n",
        "\n",
        "import warnings\n",
        "warnings.filterwarnings('ignore')\n",
        "\n",
        "%matplotlib inline"
      ],
      "execution_count": 26,
      "outputs": []
    },
    {
      "cell_type": "markdown",
      "metadata": {
        "id": "HH4gT0OzjMnK"
      },
      "source": [
        "## Data Preprocessing and Exploratory Data Analyasis"
      ]
    },
    {
      "cell_type": "code",
      "metadata": {
        "colab": {
          "base_uri": "https://localhost:8080/"
        },
        "id": "OLlgz7Ecp_Xj",
        "outputId": "9742cc38-aebe-4743-e531-0d892bc4c4a0"
      },
      "source": [
        "# mounting googledrive to access datasets\n",
        "drive.mount('/content/drive')"
      ],
      "execution_count": 27,
      "outputs": [
        {
          "output_type": "stream",
          "text": [
            "Drive already mounted at /content/drive; to attempt to forcibly remount, call drive.mount(\"/content/drive\", force_remount=True).\n"
          ],
          "name": "stdout"
        }
      ]
    },
    {
      "cell_type": "markdown",
      "metadata": {
        "id": "4F3F2gDYjMnL"
      },
      "source": [
        "### Loading Data"
      ]
    },
    {
      "cell_type": "code",
      "metadata": {
        "ExecuteTime": {
          "end_time": "2018-12-07T00:53:07.095024Z",
          "start_time": "2018-12-07T00:53:05.290683Z"
        },
        "id": "oFBGS2DRjMnL"
      },
      "source": [
        "train = pd.read_csv(\"/content/drive/MyDrive/Colab Notebooks/train.csv\")\n",
        "test = pd.read_csv(\"/content/drive/MyDrive/Colab Notebooks/test.csv\")\n",
        "test_y = pd.read_csv(\"/content/drive/MyDrive/Colab Notebooks/test_labels.csv\")"
      ],
      "execution_count": 28,
      "outputs": []
    },
    {
      "cell_type": "markdown",
      "metadata": {
        "id": "r2rq7AQnjMnL"
      },
      "source": [
        "### Data Analysis"
      ]
    },
    {
      "cell_type": "code",
      "metadata": {
        "scrolled": true,
        "colab": {
          "base_uri": "https://localhost:8080/",
          "height": 266
        },
        "id": "svcqQTfDjMnM",
        "outputId": "2454fb8c-f774-4549-96db-305b8cdc6321"
      },
      "source": [
        "train.head(7)"
      ],
      "execution_count": 29,
      "outputs": [
        {
          "output_type": "execute_result",
          "data": {
            "text/html": [
              "<div>\n",
              "<style scoped>\n",
              "    .dataframe tbody tr th:only-of-type {\n",
              "        vertical-align: middle;\n",
              "    }\n",
              "\n",
              "    .dataframe tbody tr th {\n",
              "        vertical-align: top;\n",
              "    }\n",
              "\n",
              "    .dataframe thead th {\n",
              "        text-align: right;\n",
              "    }\n",
              "</style>\n",
              "<table border=\"1\" class=\"dataframe\">\n",
              "  <thead>\n",
              "    <tr style=\"text-align: right;\">\n",
              "      <th></th>\n",
              "      <th>id</th>\n",
              "      <th>comment_text</th>\n",
              "      <th>toxic</th>\n",
              "      <th>severe_toxic</th>\n",
              "      <th>obscene</th>\n",
              "      <th>threat</th>\n",
              "      <th>insult</th>\n",
              "      <th>identity_hate</th>\n",
              "    </tr>\n",
              "  </thead>\n",
              "  <tbody>\n",
              "    <tr>\n",
              "      <th>0</th>\n",
              "      <td>0000997932d777bf</td>\n",
              "      <td>Explanation\\nWhy the edits made under my usern...</td>\n",
              "      <td>0</td>\n",
              "      <td>0</td>\n",
              "      <td>0</td>\n",
              "      <td>0</td>\n",
              "      <td>0</td>\n",
              "      <td>0</td>\n",
              "    </tr>\n",
              "    <tr>\n",
              "      <th>1</th>\n",
              "      <td>000103f0d9cfb60f</td>\n",
              "      <td>D'aww! He matches this background colour I'm s...</td>\n",
              "      <td>0</td>\n",
              "      <td>0</td>\n",
              "      <td>0</td>\n",
              "      <td>0</td>\n",
              "      <td>0</td>\n",
              "      <td>0</td>\n",
              "    </tr>\n",
              "    <tr>\n",
              "      <th>2</th>\n",
              "      <td>000113f07ec002fd</td>\n",
              "      <td>Hey man, I'm really not trying to edit war. It...</td>\n",
              "      <td>0</td>\n",
              "      <td>0</td>\n",
              "      <td>0</td>\n",
              "      <td>0</td>\n",
              "      <td>0</td>\n",
              "      <td>0</td>\n",
              "    </tr>\n",
              "    <tr>\n",
              "      <th>3</th>\n",
              "      <td>0001b41b1c6bb37e</td>\n",
              "      <td>\"\\nMore\\nI can't make any real suggestions on ...</td>\n",
              "      <td>0</td>\n",
              "      <td>0</td>\n",
              "      <td>0</td>\n",
              "      <td>0</td>\n",
              "      <td>0</td>\n",
              "      <td>0</td>\n",
              "    </tr>\n",
              "    <tr>\n",
              "      <th>4</th>\n",
              "      <td>0001d958c54c6e35</td>\n",
              "      <td>You, sir, are my hero. Any chance you remember...</td>\n",
              "      <td>0</td>\n",
              "      <td>0</td>\n",
              "      <td>0</td>\n",
              "      <td>0</td>\n",
              "      <td>0</td>\n",
              "      <td>0</td>\n",
              "    </tr>\n",
              "    <tr>\n",
              "      <th>5</th>\n",
              "      <td>00025465d4725e87</td>\n",
              "      <td>\"\\n\\nCongratulations from me as well, use the ...</td>\n",
              "      <td>0</td>\n",
              "      <td>0</td>\n",
              "      <td>0</td>\n",
              "      <td>0</td>\n",
              "      <td>0</td>\n",
              "      <td>0</td>\n",
              "    </tr>\n",
              "    <tr>\n",
              "      <th>6</th>\n",
              "      <td>0002bcb3da6cb337</td>\n",
              "      <td>COCKSUCKER BEFORE YOU PISS AROUND ON MY WORK</td>\n",
              "      <td>1</td>\n",
              "      <td>1</td>\n",
              "      <td>1</td>\n",
              "      <td>0</td>\n",
              "      <td>1</td>\n",
              "      <td>0</td>\n",
              "    </tr>\n",
              "  </tbody>\n",
              "</table>\n",
              "</div>"
            ],
            "text/plain": [
              "                 id  ... identity_hate\n",
              "0  0000997932d777bf  ...             0\n",
              "1  000103f0d9cfb60f  ...             0\n",
              "2  000113f07ec002fd  ...             0\n",
              "3  0001b41b1c6bb37e  ...             0\n",
              "4  0001d958c54c6e35  ...             0\n",
              "5  00025465d4725e87  ...             0\n",
              "6  0002bcb3da6cb337  ...             0\n",
              "\n",
              "[7 rows x 8 columns]"
            ]
          },
          "metadata": {
            "tags": []
          },
          "execution_count": 29
        }
      ]
    },
    {
      "cell_type": "code",
      "metadata": {
        "colab": {
          "base_uri": "https://localhost:8080/",
          "height": 297
        },
        "id": "OFWCr6nVjMnM",
        "outputId": "0fb412c8-d139-4893-f228-41d9c3cc308d"
      },
      "source": [
        "train.describe()"
      ],
      "execution_count": 30,
      "outputs": [
        {
          "output_type": "execute_result",
          "data": {
            "text/html": [
              "<div>\n",
              "<style scoped>\n",
              "    .dataframe tbody tr th:only-of-type {\n",
              "        vertical-align: middle;\n",
              "    }\n",
              "\n",
              "    .dataframe tbody tr th {\n",
              "        vertical-align: top;\n",
              "    }\n",
              "\n",
              "    .dataframe thead th {\n",
              "        text-align: right;\n",
              "    }\n",
              "</style>\n",
              "<table border=\"1\" class=\"dataframe\">\n",
              "  <thead>\n",
              "    <tr style=\"text-align: right;\">\n",
              "      <th></th>\n",
              "      <th>toxic</th>\n",
              "      <th>severe_toxic</th>\n",
              "      <th>obscene</th>\n",
              "      <th>threat</th>\n",
              "      <th>insult</th>\n",
              "      <th>identity_hate</th>\n",
              "    </tr>\n",
              "  </thead>\n",
              "  <tbody>\n",
              "    <tr>\n",
              "      <th>count</th>\n",
              "      <td>159571.000000</td>\n",
              "      <td>159571.000000</td>\n",
              "      <td>159571.000000</td>\n",
              "      <td>159571.000000</td>\n",
              "      <td>159571.000000</td>\n",
              "      <td>159571.000000</td>\n",
              "    </tr>\n",
              "    <tr>\n",
              "      <th>mean</th>\n",
              "      <td>0.095844</td>\n",
              "      <td>0.009996</td>\n",
              "      <td>0.052948</td>\n",
              "      <td>0.002996</td>\n",
              "      <td>0.049364</td>\n",
              "      <td>0.008805</td>\n",
              "    </tr>\n",
              "    <tr>\n",
              "      <th>std</th>\n",
              "      <td>0.294379</td>\n",
              "      <td>0.099477</td>\n",
              "      <td>0.223931</td>\n",
              "      <td>0.054650</td>\n",
              "      <td>0.216627</td>\n",
              "      <td>0.093420</td>\n",
              "    </tr>\n",
              "    <tr>\n",
              "      <th>min</th>\n",
              "      <td>0.000000</td>\n",
              "      <td>0.000000</td>\n",
              "      <td>0.000000</td>\n",
              "      <td>0.000000</td>\n",
              "      <td>0.000000</td>\n",
              "      <td>0.000000</td>\n",
              "    </tr>\n",
              "    <tr>\n",
              "      <th>25%</th>\n",
              "      <td>0.000000</td>\n",
              "      <td>0.000000</td>\n",
              "      <td>0.000000</td>\n",
              "      <td>0.000000</td>\n",
              "      <td>0.000000</td>\n",
              "      <td>0.000000</td>\n",
              "    </tr>\n",
              "    <tr>\n",
              "      <th>50%</th>\n",
              "      <td>0.000000</td>\n",
              "      <td>0.000000</td>\n",
              "      <td>0.000000</td>\n",
              "      <td>0.000000</td>\n",
              "      <td>0.000000</td>\n",
              "      <td>0.000000</td>\n",
              "    </tr>\n",
              "    <tr>\n",
              "      <th>75%</th>\n",
              "      <td>0.000000</td>\n",
              "      <td>0.000000</td>\n",
              "      <td>0.000000</td>\n",
              "      <td>0.000000</td>\n",
              "      <td>0.000000</td>\n",
              "      <td>0.000000</td>\n",
              "    </tr>\n",
              "    <tr>\n",
              "      <th>max</th>\n",
              "      <td>1.000000</td>\n",
              "      <td>1.000000</td>\n",
              "      <td>1.000000</td>\n",
              "      <td>1.000000</td>\n",
              "      <td>1.000000</td>\n",
              "      <td>1.000000</td>\n",
              "    </tr>\n",
              "  </tbody>\n",
              "</table>\n",
              "</div>"
            ],
            "text/plain": [
              "               toxic   severe_toxic  ...         insult  identity_hate\n",
              "count  159571.000000  159571.000000  ...  159571.000000  159571.000000\n",
              "mean        0.095844       0.009996  ...       0.049364       0.008805\n",
              "std         0.294379       0.099477  ...       0.216627       0.093420\n",
              "min         0.000000       0.000000  ...       0.000000       0.000000\n",
              "25%         0.000000       0.000000  ...       0.000000       0.000000\n",
              "50%         0.000000       0.000000  ...       0.000000       0.000000\n",
              "75%         0.000000       0.000000  ...       0.000000       0.000000\n",
              "max         1.000000       1.000000  ...       1.000000       1.000000\n",
              "\n",
              "[8 rows x 6 columns]"
            ]
          },
          "metadata": {
            "tags": []
          },
          "execution_count": 30
        }
      ]
    },
    {
      "cell_type": "code",
      "metadata": {
        "scrolled": true,
        "colab": {
          "base_uri": "https://localhost:8080/",
          "height": 204
        },
        "id": "P5GaAASxjMnM",
        "outputId": "a07ca394-e38f-4331-90f1-ce23a03d15ae"
      },
      "source": [
        "test.head()"
      ],
      "execution_count": 31,
      "outputs": [
        {
          "output_type": "execute_result",
          "data": {
            "text/html": [
              "<div>\n",
              "<style scoped>\n",
              "    .dataframe tbody tr th:only-of-type {\n",
              "        vertical-align: middle;\n",
              "    }\n",
              "\n",
              "    .dataframe tbody tr th {\n",
              "        vertical-align: top;\n",
              "    }\n",
              "\n",
              "    .dataframe thead th {\n",
              "        text-align: right;\n",
              "    }\n",
              "</style>\n",
              "<table border=\"1\" class=\"dataframe\">\n",
              "  <thead>\n",
              "    <tr style=\"text-align: right;\">\n",
              "      <th></th>\n",
              "      <th>id</th>\n",
              "      <th>comment_text</th>\n",
              "    </tr>\n",
              "  </thead>\n",
              "  <tbody>\n",
              "    <tr>\n",
              "      <th>0</th>\n",
              "      <td>00001cee341fdb12</td>\n",
              "      <td>Yo bitch Ja Rule is more succesful then you'll...</td>\n",
              "    </tr>\n",
              "    <tr>\n",
              "      <th>1</th>\n",
              "      <td>0000247867823ef7</td>\n",
              "      <td>== From RfC == \\n\\n The title is fine as it is...</td>\n",
              "    </tr>\n",
              "    <tr>\n",
              "      <th>2</th>\n",
              "      <td>00013b17ad220c46</td>\n",
              "      <td>\" \\n\\n == Sources == \\n\\n * Zawe Ashton on Lap...</td>\n",
              "    </tr>\n",
              "    <tr>\n",
              "      <th>3</th>\n",
              "      <td>00017563c3f7919a</td>\n",
              "      <td>:If you have a look back at the source, the in...</td>\n",
              "    </tr>\n",
              "    <tr>\n",
              "      <th>4</th>\n",
              "      <td>00017695ad8997eb</td>\n",
              "      <td>I don't anonymously edit articles at all.</td>\n",
              "    </tr>\n",
              "  </tbody>\n",
              "</table>\n",
              "</div>"
            ],
            "text/plain": [
              "                 id                                       comment_text\n",
              "0  00001cee341fdb12  Yo bitch Ja Rule is more succesful then you'll...\n",
              "1  0000247867823ef7  == From RfC == \\n\\n The title is fine as it is...\n",
              "2  00013b17ad220c46  \" \\n\\n == Sources == \\n\\n * Zawe Ashton on Lap...\n",
              "3  00017563c3f7919a  :If you have a look back at the source, the in...\n",
              "4  00017695ad8997eb          I don't anonymously edit articles at all."
            ]
          },
          "metadata": {
            "tags": []
          },
          "execution_count": 31
        }
      ]
    },
    {
      "cell_type": "code",
      "metadata": {
        "scrolled": true,
        "colab": {
          "base_uri": "https://localhost:8080/",
          "height": 204
        },
        "id": "3JdWq3R3jMnN",
        "outputId": "82e495fc-eb0e-4199-fac8-ffaade0d5f18"
      },
      "source": [
        "test_y.head()"
      ],
      "execution_count": 32,
      "outputs": [
        {
          "output_type": "execute_result",
          "data": {
            "text/html": [
              "<div>\n",
              "<style scoped>\n",
              "    .dataframe tbody tr th:only-of-type {\n",
              "        vertical-align: middle;\n",
              "    }\n",
              "\n",
              "    .dataframe tbody tr th {\n",
              "        vertical-align: top;\n",
              "    }\n",
              "\n",
              "    .dataframe thead th {\n",
              "        text-align: right;\n",
              "    }\n",
              "</style>\n",
              "<table border=\"1\" class=\"dataframe\">\n",
              "  <thead>\n",
              "    <tr style=\"text-align: right;\">\n",
              "      <th></th>\n",
              "      <th>id</th>\n",
              "      <th>toxic</th>\n",
              "      <th>severe_toxic</th>\n",
              "      <th>obscene</th>\n",
              "      <th>threat</th>\n",
              "      <th>insult</th>\n",
              "      <th>identity_hate</th>\n",
              "    </tr>\n",
              "  </thead>\n",
              "  <tbody>\n",
              "    <tr>\n",
              "      <th>0</th>\n",
              "      <td>00001cee341fdb12</td>\n",
              "      <td>-1</td>\n",
              "      <td>-1</td>\n",
              "      <td>-1</td>\n",
              "      <td>-1</td>\n",
              "      <td>-1</td>\n",
              "      <td>-1</td>\n",
              "    </tr>\n",
              "    <tr>\n",
              "      <th>1</th>\n",
              "      <td>0000247867823ef7</td>\n",
              "      <td>-1</td>\n",
              "      <td>-1</td>\n",
              "      <td>-1</td>\n",
              "      <td>-1</td>\n",
              "      <td>-1</td>\n",
              "      <td>-1</td>\n",
              "    </tr>\n",
              "    <tr>\n",
              "      <th>2</th>\n",
              "      <td>00013b17ad220c46</td>\n",
              "      <td>-1</td>\n",
              "      <td>-1</td>\n",
              "      <td>-1</td>\n",
              "      <td>-1</td>\n",
              "      <td>-1</td>\n",
              "      <td>-1</td>\n",
              "    </tr>\n",
              "    <tr>\n",
              "      <th>3</th>\n",
              "      <td>00017563c3f7919a</td>\n",
              "      <td>-1</td>\n",
              "      <td>-1</td>\n",
              "      <td>-1</td>\n",
              "      <td>-1</td>\n",
              "      <td>-1</td>\n",
              "      <td>-1</td>\n",
              "    </tr>\n",
              "    <tr>\n",
              "      <th>4</th>\n",
              "      <td>00017695ad8997eb</td>\n",
              "      <td>-1</td>\n",
              "      <td>-1</td>\n",
              "      <td>-1</td>\n",
              "      <td>-1</td>\n",
              "      <td>-1</td>\n",
              "      <td>-1</td>\n",
              "    </tr>\n",
              "  </tbody>\n",
              "</table>\n",
              "</div>"
            ],
            "text/plain": [
              "                 id  toxic  severe_toxic  ...  threat  insult  identity_hate\n",
              "0  00001cee341fdb12     -1            -1  ...      -1      -1             -1\n",
              "1  0000247867823ef7     -1            -1  ...      -1      -1             -1\n",
              "2  00013b17ad220c46     -1            -1  ...      -1      -1             -1\n",
              "3  00017563c3f7919a     -1            -1  ...      -1      -1             -1\n",
              "4  00017695ad8997eb     -1            -1  ...      -1      -1             -1\n",
              "\n",
              "[5 rows x 7 columns]"
            ]
          },
          "metadata": {
            "tags": []
          },
          "execution_count": 32
        }
      ]
    },
    {
      "cell_type": "markdown",
      "metadata": {
        "id": "UuKTNQeDjMnO"
      },
      "source": [
        "Given graph gives visualization between comment length and frequency of the comments with that particular length."
      ]
    },
    {
      "cell_type": "code",
      "metadata": {
        "colab": {
          "base_uri": "https://localhost:8080/",
          "height": 303
        },
        "id": "v3eQ9ecnjMnO",
        "outputId": "713b3e89-e6bd-4f5f-d92d-0d47cb5994b0"
      },
      "source": [
        "sns.set(color_codes=True)\n",
        "comment_len = train.comment_text.str.len()\n",
        "sns.distplot(comment_len, kde=False, bins=20, color=\"green\")"
      ],
      "execution_count": 77,
      "outputs": [
        {
          "output_type": "execute_result",
          "data": {
            "text/plain": [
              "<matplotlib.axes._subplots.AxesSubplot at 0x7f95dd582110>"
            ]
          },
          "metadata": {
            "tags": []
          },
          "execution_count": 77
        },
        {
          "output_type": "display_data",
          "data": {
            "image/png": "[encoded data removed]",
            "text/plain": [
              "<Figure size 432x288 with 1 Axes>"
            ]
          },
          "metadata": {
            "tags": []
          }
        }
      ]
    },
    {
      "cell_type": "code",
      "metadata": {
        "ExecuteTime": {
          "end_time": "2018-12-07T00:53:22.367191Z",
          "start_time": "2018-12-07T00:53:22.347392Z"
        },
        "id": "qfPdll4vjMnP"
      },
      "source": [
        "# Accesing labels from the training data\n",
        "train_labels = train[['toxic', 'severe_toxic',\n",
        "                      'obscene', 'threat', 'insult', 'identity_hate']]\n",
        "label_count = train_labels.sum() "
      ],
      "execution_count": 34,
      "outputs": []
    },
    {
      "cell_type": "code",
      "metadata": {
        "colab": {
          "base_uri": "https://localhost:8080/",
          "height": 365
        },
        "id": "WaGtfBo8jMnP",
        "outputId": "dba0c6aa-d2a4-470a-9271-ff919a668a0e"
      },
      "source": [
        "# below plot gives the frequency of the lables\n",
        "label_count.plot(kind='bar', title='Labels Frequency', color='green')"
      ],
      "execution_count": 76,
      "outputs": [
        {
          "output_type": "execute_result",
          "data": {
            "text/plain": [
              "<matplotlib.axes._subplots.AxesSubplot at 0x7f95d40414d0>"
            ]
          },
          "metadata": {
            "tags": []
          },
          "execution_count": 76
        },
        {
          "output_type": "display_data",
          "data": {
            "image/png": "[encoded data removed]",
            "text/plain": [
              "<Figure size 432x288 with 1 Axes>"
            ]
          },
          "metadata": {
            "tags": []
          }
        }
      ]
    },
    {
      "cell_type": "code",
      "metadata": {
        "colab": {
          "base_uri": "https://localhost:8080/",
          "height": 285
        },
        "id": "0u9cIGfQjMnQ",
        "outputId": "2505e09d-aa7d-42f6-c5ad-4e49fa4e7c5c"
      },
      "source": [
        "# Code to draw bar graph for visualising distribution of classes within each label.\n",
        "barWidth = 0.25\n",
        "\n",
        "bars1 = [sum(train['toxic'] == 1), sum(train['obscene'] == 1), sum(train['insult'] == 1), sum(train['severe_toxic'] == 1),\n",
        "         sum(train['identity_hate'] == 1), sum(train['threat'] == 1)] # labeled 1\n",
        "bars2 = [sum(train['toxic'] == 0), sum(train['obscene'] == 0), sum(train['insult'] == 0), sum(train['severe_toxic'] == 0),\n",
        "         sum(train['identity_hate'] == 0), sum(train['threat'] == 0)] # labeled 0\n",
        "\n",
        "r1 = np.arange(len(bars1))\n",
        "r2 = [x + barWidth for x in r1]\n",
        "\n",
        "# plotting 2 bargraph with different colours\n",
        "plt.bar(r1, bars1, color='green', width=barWidth, label='labeled = 1')\n",
        "plt.bar(r2, bars2, color='lightgreen', width=barWidth, label='labeled = 0')\n",
        "\n",
        "plt.xlabel('group', fontweight='bold')\n",
        "plt.xticks([r + barWidth for r in range(len(bars1))], ['Toxic', 'Obscene', 'Insult', 'Severe Toxic', 'Identity Hate',\n",
        "                                                       'Threat'])\n",
        "plt.legend()\n",
        "plt.show()"
      ],
      "execution_count": 75,
      "outputs": [
        {
          "output_type": "display_data",
          "data": {
            "image/png": "[encoded data removed]",
            "text/plain": [
              "<Figure size 432x288 with 1 Axes>"
            ]
          },
          "metadata": {
            "tags": []
          }
        }
      ]
    },
    {
      "cell_type": "markdown",
      "metadata": {
        "id": "RS3NrMNijMnQ"
      },
      "source": [
        "To get a better understanding of what the comments look like, below are examples of one clean (non-toxic) comment and one toxic (specifically, with label \"toxic\") comment."
      ]
    },
    {
      "cell_type": "code",
      "metadata": {
        "colab": {
          "base_uri": "https://localhost:8080/",
          "height": 53
        },
        "id": "3__FhVxDjMnQ",
        "outputId": "d7ebb2c8-049a-47f8-95ba-b66c13d9ee60"
      },
      "source": [
        "# example of clean comment\n",
        "train.comment_text[0]"
      ],
      "execution_count": 37,
      "outputs": [
        {
          "output_type": "execute_result",
          "data": {
            "application/vnd.google.colaboratory.intrinsic+json": {
              "type": "string"
            },
            "text/plain": [
              "\"Explanation\\nWhy the edits made under my username Hardcore Metallica Fan were reverted? They weren't vandalisms, just closure on some GAs after I voted at New York Dolls FAC. And please don't remove the template from the talk page since I'm retired now.89.205.38.27\""
            ]
          },
          "metadata": {
            "tags": []
          },
          "execution_count": 37
        }
      ]
    },
    {
      "cell_type": "code",
      "metadata": {
        "colab": {
          "base_uri": "https://localhost:8080/",
          "height": 53
        },
        "id": "R7zp7oYqjMnR",
        "outputId": "fc612424-8bbd-4ac0-be35-3b351494d39d"
      },
      "source": [
        "# example of toxic comment\n",
        "train[train.toxic == 1].iloc[1, 1]"
      ],
      "execution_count": 38,
      "outputs": [
        {
          "output_type": "execute_result",
          "data": {
            "application/vnd.google.colaboratory.intrinsic+json": {
              "type": "string"
            },
            "text/plain": [
              "'Hey... what is it..\\n@ | talk .\\nWhat is it... an exclusive group of some WP TALIBANS...who are good at destroying, self-appointed purist who GANG UP any one who asks them questions abt their ANTI-SOCIAL and DESTRUCTIVE (non)-contribution at WP?\\n\\nAsk Sityush to clean up his behavior than issue me nonsensical warnings...'"
            ]
          },
          "metadata": {
            "tags": []
          },
          "execution_count": 38
        }
      ]
    },
    {
      "cell_type": "code",
      "metadata": {
        "colab": {
          "base_uri": "https://localhost:8080/",
          "height": 345
        },
        "id": "kOp0RTr9jMnR",
        "outputId": "6db8ec5f-b7db-4004-bb7d-c8bb2c39409c"
      },
      "source": [
        "# Cross correlation matrix across labels\n",
        "rowsums = train.iloc[:, 2:].sum(axis=1)\n",
        "temp = train.iloc[:, 2:-1]\n",
        "train_corr = temp[rowsums > 0]\n",
        "corr = train_corr.corr()\n",
        "plt.figure(figsize=(7, 5))\n",
        "sns.heatmap(corr,\n",
        "            xticklabels=corr.columns.values,\n",
        "            yticklabels=corr.columns.values, annot=True, cmap=\"Greens\")"
      ],
      "execution_count": 74,
      "outputs": [
        {
          "output_type": "execute_result",
          "data": {
            "text/plain": [
              "<matplotlib.axes._subplots.AxesSubplot at 0x7f95dc9d4350>"
            ]
          },
          "metadata": {
            "tags": []
          },
          "execution_count": 74
        },
        {
          "output_type": "display_data",
          "data": {
            "image/png": "[encoded data removed]",
            "text/plain": [
              "<Figure size 504x360 with 2 Axes>"
            ]
          },
          "metadata": {
            "tags": []
          }
        }
      ]
    },
    {
      "cell_type": "markdown",
      "metadata": {
        "id": "axe_trV5jMnS"
      },
      "source": [
        "From the above Heat map we can observe that most of the obscene comments are insult."
      ]
    },
    {
      "cell_type": "markdown",
      "metadata": {
        "id": "tigI3qMYjMnT"
      },
      "source": [
        "## Tokenizing and lemmatization"
      ]
    },
    {
      "cell_type": "code",
      "metadata": {
        "ExecuteTime": {
          "end_time": "2018-12-07T00:53:29.216225Z",
          "start_time": "2018-12-07T00:53:29.213766Z"
        },
        "id": "D5SiwDmPjMnT"
      },
      "source": [
        "test_labels = [\"toxic\", \"severe_toxic\", \"obscene\",\n",
        "               \"threat\", \"insult\", \"identity_hate\"]"
      ],
      "execution_count": 40,
      "outputs": []
    },
    {
      "cell_type": "code",
      "metadata": {
        "ExecuteTime": {
          "end_time": "2018-12-07T00:53:29.987740Z",
          "start_time": "2018-12-07T00:53:29.935384Z"
        },
        "id": "ixdyCsQBjMnU"
      },
      "source": [
        "def tokenize(text):\n",
        "    '''\n",
        "    Tokenize text and return a non-unique list of tokenized words found in the text. \n",
        "    Normalize to lowercase, strip punctuation, remove stop words, filter non-ascii characters.\n",
        "    Lemmatize the words and lastly drop words of length < 3.\n",
        "    '''\n",
        "    text = text.lower() # convert to lower case\n",
        "    regex = re.compile('[' + re.escape(string.punctuation) + '0-9\\\\r\\\\t\\\\n]') # removing punctuations\n",
        "    nopunct = regex.sub(\" \", text)\n",
        "    words = nopunct.split(' ')\n",
        "    # remove any non ascii\n",
        "    words = [word.encode('ascii', 'ignore').decode('ascii') for word in words]\n",
        "    lmtzr = WordNetLemmatizer() # lemmatization\n",
        "    words = [lmtzr.lemmatize(w) for w in words]\n",
        "    words = [w for w in words if len(w) > 2]\n",
        "    return words"
      ],
      "execution_count": 41,
      "outputs": []
    },
    {
      "cell_type": "markdown",
      "metadata": {
        "id": "7nhrocGXjMnU"
      },
      "source": [
        "#### TFidf Vectorizer"
      ]
    },
    {
      "cell_type": "markdown",
      "metadata": {
        "id": "gMM3Ax33jMnV"
      },
      "source": [
        "We determined to use TFIDF to scale down the impact of tokens that occur very frequently in a given corpus and that are hence empirically less informative than features that occur in a small fraction of the training corpus.\n",
        "\n",
        "For example: Since this corpus consists of data from the Wikipedia's talk page edits, the words such as wiki, Wikipedia, edit, page are very common. But for our classification purposes they do not provide us useful information."
      ]
    },
    {
      "cell_type": "code",
      "metadata": {
        "ExecuteTime": {
          "end_time": "2018-12-07T00:55:39.241928Z",
          "start_time": "2018-12-07T00:53:32.824099Z"
        },
        "colab": {
          "base_uri": "https://localhost:8080/"
        },
        "id": "d-QlJl3vjMnV",
        "outputId": "e9c15029-2ba2-4669-ca82-cbcb60ca4475"
      },
      "source": [
        "from nltk.corpus import stopwords\n",
        "import nltk\n",
        "\n",
        "nltk.download('wordnet')\n",
        "vector = TfidfVectorizer(ngram_range=(1, 1), analyzer='word',\n",
        "                         tokenizer=tokenize, stop_words='english',\n",
        "                         strip_accents='unicode', use_idf=1, min_df=10)\n",
        "X_train = vector.fit_transform(train['comment_text'])\n",
        "X_test = vector.transform(test['comment_text'])"
      ],
      "execution_count": 42,
      "outputs": [
        {
          "output_type": "stream",
          "text": [
            "[nltk_data] Downloading package wordnet to /root/nltk_data...\n",
            "[nltk_data]   Package wordnet is already up-to-date!\n"
          ],
          "name": "stdout"
        }
      ]
    },
    {
      "cell_type": "markdown",
      "metadata": {
        "id": "OlYJ2mEajMnW"
      },
      "source": [
        "## Modeling and Evaluation"
      ]
    },
    {
      "cell_type": "markdown",
      "metadata": {
        "id": "jpgRbyavjMnX"
      },
      "source": [
        "<a id='cv'></a>\n",
        "### Cross Validation"
      ]
    },
    {
      "cell_type": "code",
      "metadata": {
        "ExecuteTime": {
          "end_time": "2018-12-07T00:55:39.286269Z",
          "start_time": "2018-12-07T00:55:39.282415Z"
        },
        "id": "lw3cax-NjMnY"
      },
      "source": [
        "# Creating classifiers with default parameters initially.\n",
        "clf1 = MultinomialNB()\n",
        "clf2 = LogisticRegression()\n",
        "clf3 = LinearSVC()"
      ],
      "execution_count": 46,
      "outputs": []
    },
    {
      "cell_type": "code",
      "metadata": {
        "ExecuteTime": {
          "end_time": "2018-12-07T00:55:39.293639Z",
          "start_time": "2018-12-07T00:55:39.289454Z"
        },
        "id": "gIlaB6jtjMnY"
      },
      "source": [
        "def cross_validation_score(classifier, X_train, y_train):\n",
        "    methods = []\n",
        "    name = classifier.__class__.__name__.split('.')[-1] # getting the name of the model\n",
        "\n",
        "    for label in test_labels: # iterating through each label\n",
        "        recall = cross_val_score(\n",
        "            classifier, X_train, y_train[label], cv=10, scoring='recall') # calculating recall\n",
        "        f1 = cross_val_score(classifier, X_train,\n",
        "                             y_train[label], cv=10, scoring='f1') # calcualting f1 score\n",
        "        methods.append([name, label, recall.mean(), f1.mean()])\n",
        "\n",
        "    return methods # retuning model name, label, recall and f1 score"
      ],
      "execution_count": 47,
      "outputs": []
    },
    {
      "cell_type": "code",
      "metadata": {
        "ExecuteTime": {
          "end_time": "2018-12-07T00:58:38.057641Z",
          "start_time": "2018-12-07T00:55:39.296567Z"
        },
        "id": "GpOkaZ_JjMnY"
      },
      "source": [
        "# Calculating the cross validation F1 and Recall score for our 3 baseline models.\n",
        "methods1_cv = pd.DataFrame(cross_validation_score(clf1, X_train, train))\n",
        "methods2_cv = pd.DataFrame(cross_validation_score(clf2, X_train, train))\n",
        "methods3_cv = pd.DataFrame(cross_validation_score(clf3, X_train, train))"
      ],
      "execution_count": 48,
      "outputs": []
    },
    {
      "cell_type": "code",
      "metadata": {
        "ExecuteTime": {
          "end_time": "2018-12-07T00:58:38.081904Z",
          "start_time": "2018-12-07T00:58:38.060354Z"
        },
        "id": "rBXUFcwTjMnY",
        "colab": {
          "base_uri": "https://localhost:8080/",
          "height": 607
        },
        "outputId": "3e7a1684-7e48-4523-9228-666b225cdc98"
      },
      "source": [
        "# Creating a dataframe to show summary of results.\n",
        "methods_cv = pd.concat([methods1_cv, methods2_cv, methods3_cv])\n",
        "methods_cv.columns = ['Model', 'Label', 'Recall', 'F1']\n",
        "meth_cv = methods_cv.reset_index()\n",
        "meth_cv[['Model', 'Label', 'Recall', 'F1']]"
      ],
      "execution_count": 49,
      "outputs": [
        {
          "output_type": "execute_result",
          "data": {
            "text/html": [
              "<div>\n",
              "<style scoped>\n",
              "    .dataframe tbody tr th:only-of-type {\n",
              "        vertical-align: middle;\n",
              "    }\n",
              "\n",
              "    .dataframe tbody tr th {\n",
              "        vertical-align: top;\n",
              "    }\n",
              "\n",
              "    .dataframe thead th {\n",
              "        text-align: right;\n",
              "    }\n",
              "</style>\n",
              "<table border=\"1\" class=\"dataframe\">\n",
              "  <thead>\n",
              "    <tr style=\"text-align: right;\">\n",
              "      <th></th>\n",
              "      <th>Model</th>\n",
              "      <th>Label</th>\n",
              "      <th>Recall</th>\n",
              "      <th>F1</th>\n",
              "    </tr>\n",
              "  </thead>\n",
              "  <tbody>\n",
              "    <tr>\n",
              "      <th>0</th>\n",
              "      <td>MultinomialNB</td>\n",
              "      <td>toxic</td>\n",
              "      <td>0.482999</td>\n",
              "      <td>0.636562</td>\n",
              "    </tr>\n",
              "    <tr>\n",
              "      <th>1</th>\n",
              "      <td>MultinomialNB</td>\n",
              "      <td>severe_toxic</td>\n",
              "      <td>0.021938</td>\n",
              "      <td>0.042244</td>\n",
              "    </tr>\n",
              "    <tr>\n",
              "      <th>2</th>\n",
              "      <td>MultinomialNB</td>\n",
              "      <td>obscene</td>\n",
              "      <td>0.469167</td>\n",
              "      <td>0.622148</td>\n",
              "    </tr>\n",
              "    <tr>\n",
              "      <th>3</th>\n",
              "      <td>MultinomialNB</td>\n",
              "      <td>threat</td>\n",
              "      <td>0.000000</td>\n",
              "      <td>0.000000</td>\n",
              "    </tr>\n",
              "    <tr>\n",
              "      <th>4</th>\n",
              "      <td>MultinomialNB</td>\n",
              "      <td>insult</td>\n",
              "      <td>0.367020</td>\n",
              "      <td>0.511394</td>\n",
              "    </tr>\n",
              "    <tr>\n",
              "      <th>5</th>\n",
              "      <td>MultinomialNB</td>\n",
              "      <td>identity_hate</td>\n",
              "      <td>0.007832</td>\n",
              "      <td>0.015346</td>\n",
              "    </tr>\n",
              "    <tr>\n",
              "      <th>6</th>\n",
              "      <td>LogisticRegression</td>\n",
              "      <td>toxic</td>\n",
              "      <td>0.610696</td>\n",
              "      <td>0.731487</td>\n",
              "    </tr>\n",
              "    <tr>\n",
              "      <th>7</th>\n",
              "      <td>LogisticRegression</td>\n",
              "      <td>severe_toxic</td>\n",
              "      <td>0.256431</td>\n",
              "      <td>0.351530</td>\n",
              "    </tr>\n",
              "    <tr>\n",
              "      <th>8</th>\n",
              "      <td>LogisticRegression</td>\n",
              "      <td>obscene</td>\n",
              "      <td>0.637002</td>\n",
              "      <td>0.747363</td>\n",
              "    </tr>\n",
              "    <tr>\n",
              "      <th>9</th>\n",
              "      <td>LogisticRegression</td>\n",
              "      <td>threat</td>\n",
              "      <td>0.123316</td>\n",
              "      <td>0.206632</td>\n",
              "    </tr>\n",
              "    <tr>\n",
              "      <th>10</th>\n",
              "      <td>LogisticRegression</td>\n",
              "      <td>insult</td>\n",
              "      <td>0.523546</td>\n",
              "      <td>0.638177</td>\n",
              "    </tr>\n",
              "    <tr>\n",
              "      <th>11</th>\n",
              "      <td>LogisticRegression</td>\n",
              "      <td>identity_hate</td>\n",
              "      <td>0.200750</td>\n",
              "      <td>0.310379</td>\n",
              "    </tr>\n",
              "    <tr>\n",
              "      <th>12</th>\n",
              "      <td>LinearSVC</td>\n",
              "      <td>toxic</td>\n",
              "      <td>0.680594</td>\n",
              "      <td>0.759365</td>\n",
              "    </tr>\n",
              "    <tr>\n",
              "      <th>13</th>\n",
              "      <td>LinearSVC</td>\n",
              "      <td>severe_toxic</td>\n",
              "      <td>0.265825</td>\n",
              "      <td>0.353608</td>\n",
              "    </tr>\n",
              "    <tr>\n",
              "      <th>14</th>\n",
              "      <td>LinearSVC</td>\n",
              "      <td>obscene</td>\n",
              "      <td>0.695233</td>\n",
              "      <td>0.774031</td>\n",
              "    </tr>\n",
              "    <tr>\n",
              "      <th>15</th>\n",
              "      <td>LinearSVC</td>\n",
              "      <td>threat</td>\n",
              "      <td>0.219637</td>\n",
              "      <td>0.320988</td>\n",
              "    </tr>\n",
              "    <tr>\n",
              "      <th>16</th>\n",
              "      <td>LinearSVC</td>\n",
              "      <td>insult</td>\n",
              "      <td>0.576485</td>\n",
              "      <td>0.663236</td>\n",
              "    </tr>\n",
              "    <tr>\n",
              "      <th>17</th>\n",
              "      <td>LinearSVC</td>\n",
              "      <td>identity_hate</td>\n",
              "      <td>0.274752</td>\n",
              "      <td>0.383694</td>\n",
              "    </tr>\n",
              "  </tbody>\n",
              "</table>\n",
              "</div>"
            ],
            "text/plain": [
              "                 Model          Label    Recall        F1\n",
              "0        MultinomialNB          toxic  0.482999  0.636562\n",
              "1        MultinomialNB   severe_toxic  0.021938  0.042244\n",
              "2        MultinomialNB        obscene  0.469167  0.622148\n",
              "3        MultinomialNB         threat  0.000000  0.000000\n",
              "4        MultinomialNB         insult  0.367020  0.511394\n",
              "5        MultinomialNB  identity_hate  0.007832  0.015346\n",
              "6   LogisticRegression          toxic  0.610696  0.731487\n",
              "7   LogisticRegression   severe_toxic  0.256431  0.351530\n",
              "8   LogisticRegression        obscene  0.637002  0.747363\n",
              "9   LogisticRegression         threat  0.123316  0.206632\n",
              "10  LogisticRegression         insult  0.523546  0.638177\n",
              "11  LogisticRegression  identity_hate  0.200750  0.310379\n",
              "12           LinearSVC          toxic  0.680594  0.759365\n",
              "13           LinearSVC   severe_toxic  0.265825  0.353608\n",
              "14           LinearSVC        obscene  0.695233  0.774031\n",
              "15           LinearSVC         threat  0.219637  0.320988\n",
              "16           LinearSVC         insult  0.576485  0.663236\n",
              "17           LinearSVC  identity_hate  0.274752  0.383694"
            ]
          },
          "metadata": {
            "tags": []
          },
          "execution_count": 49
        }
      ]
    },
    {
      "cell_type": "markdown",
      "metadata": {
        "id": "_pmmXOTvjMnZ"
      },
      "source": [
        "The linear SVC model and Logistic Regression model perform better. Multinomial Naive Bayes does not perform well, especially for the threat label and identity_hate.\n",
        "\n"
      ]
    },
    {
      "cell_type": "markdown",
      "metadata": {
        "id": "rPRJt-W5jMnZ"
      },
      "source": [
        "### Modeling and Evaluation\n",
        "\n",
        "Now we shall see how these three models perform on the actual prediction i.e, the test dataset."
      ]
    },
    {
      "cell_type": "code",
      "metadata": {
        "ExecuteTime": {
          "end_time": "2018-12-07T00:58:38.091928Z",
          "start_time": "2018-12-07T00:58:38.085881Z"
        },
        "id": "ka_GNWZYjMnZ"
      },
      "source": [
        "def score(classifier, X_train, y_train, X_test, y_test):\n",
        "    \"\"\"\n",
        "    Calculate Hamming-loss, F1, Recall for each label on test dataset.\n",
        "    \"\"\"\n",
        "    methods = []\n",
        "    hloss = []\n",
        "    name = classifier.__class__.__name__.split('.')[-1]\n",
        "    predict_df = pd.DataFrame()\n",
        "    predict_df['id'] = test_y['id']\n",
        "\n",
        "    for label in test_labels: # iterating through each label\n",
        "        classifier.fit(X_train, y_train[label]) # fitting the train data\n",
        "        predicted = classifier.predict(X_test) # predicting the test data set\n",
        "\n",
        "        predict_df[label] = predicted\n",
        "\n",
        "        recall = recall_score(y_test[y_test[label] != -1][label],\n",
        "                              predicted[y_test[label] != -1],\n",
        "                              average=\"weighted\") # calculating score\n",
        "        f1 = f1_score(y_test[y_test[label] != -1][label],\n",
        "                      predicted[y_test[label] != -1],\n",
        "                      average=\"weighted\") # calculating f1 score\n",
        "\n",
        "        conf_mat = confusion_matrix(y_test[y_test[label] != -1][label],\n",
        "                                    predicted[y_test[label] != -1]) # calculating confusion matrix\n",
        "\n",
        "        methods.append([name, label, recall, f1, conf_mat])\n",
        "\n",
        "    hamming_loss_score = hamming_loss(test_y[test_y['toxic'] != -1].iloc[:, 1:7],\n",
        "                                      predict_df[test_y['toxic'] != -1].iloc[:, 1:7]) # calculating hamming loss\n",
        "    hloss.append([name, hamming_loss_score])\n",
        "\n",
        "    return hloss, methods"
      ],
      "execution_count": 50,
      "outputs": []
    },
    {
      "cell_type": "code",
      "metadata": {
        "ExecuteTime": {
          "end_time": "2018-12-07T00:58:49.204719Z",
          "start_time": "2018-12-07T00:58:38.094900Z"
        },
        "id": "ACUI8WrojMna"
      },
      "source": [
        "# Calculating the Hamming-loss F1 and Recall score for our 3 baseline models.\n",
        "h1, methods1 = score(clf1, X_train, train, X_test, test_y)\n",
        "h2, methods2 = score(clf2, X_train, train, X_test, test_y)\n",
        "h3, methods3 = score(clf3, X_train, train, X_test, test_y)"
      ],
      "execution_count": 51,
      "outputs": []
    },
    {
      "cell_type": "code",
      "metadata": {
        "ExecuteTime": {
          "end_time": "2018-12-07T00:58:49.226412Z",
          "start_time": "2018-12-07T00:58:49.206657Z"
        },
        "scrolled": true,
        "id": "VueMvhtnjMna",
        "colab": {
          "base_uri": "https://localhost:8080/",
          "height": 607
        },
        "outputId": "04f2710a-54b6-4eff-89a1-d7fb96899eaf"
      },
      "source": [
        "# Creating a dataframe to show summary of results.\n",
        "methods1 = pd.DataFrame(methods1)\n",
        "methods2 = pd.DataFrame(methods2)\n",
        "methods3 = pd.DataFrame(methods3)\n",
        "methods = pd.concat([methods1, methods2, methods3])\n",
        "methods.columns = ['Model', 'Label', 'Recall', 'F1', 'Confusion_Matrix']\n",
        "meth = methods.reset_index()\n",
        "meth[['Model', 'Label', 'Recall', 'F1']]"
      ],
      "execution_count": 52,
      "outputs": [
        {
          "output_type": "execute_result",
          "data": {
            "text/html": [
              "<div>\n",
              "<style scoped>\n",
              "    .dataframe tbody tr th:only-of-type {\n",
              "        vertical-align: middle;\n",
              "    }\n",
              "\n",
              "    .dataframe tbody tr th {\n",
              "        vertical-align: top;\n",
              "    }\n",
              "\n",
              "    .dataframe thead th {\n",
              "        text-align: right;\n",
              "    }\n",
              "</style>\n",
              "<table border=\"1\" class=\"dataframe\">\n",
              "  <thead>\n",
              "    <tr style=\"text-align: right;\">\n",
              "      <th></th>\n",
              "      <th>Model</th>\n",
              "      <th>Label</th>\n",
              "      <th>Recall</th>\n",
              "      <th>F1</th>\n",
              "    </tr>\n",
              "  </thead>\n",
              "  <tbody>\n",
              "    <tr>\n",
              "      <th>0</th>\n",
              "      <td>MultinomialNB</td>\n",
              "      <td>toxic</td>\n",
              "      <td>0.935196</td>\n",
              "      <td>0.930919</td>\n",
              "    </tr>\n",
              "    <tr>\n",
              "      <th>1</th>\n",
              "      <td>MultinomialNB</td>\n",
              "      <td>severe_toxic</td>\n",
              "      <td>0.994436</td>\n",
              "      <td>0.992145</td>\n",
              "    </tr>\n",
              "    <tr>\n",
              "      <th>2</th>\n",
              "      <td>MultinomialNB</td>\n",
              "      <td>obscene</td>\n",
              "      <td>0.962987</td>\n",
              "      <td>0.957902</td>\n",
              "    </tr>\n",
              "    <tr>\n",
              "      <th>3</th>\n",
              "      <td>MultinomialNB</td>\n",
              "      <td>threat</td>\n",
              "      <td>0.996702</td>\n",
              "      <td>0.995056</td>\n",
              "    </tr>\n",
              "    <tr>\n",
              "      <th>4</th>\n",
              "      <td>MultinomialNB</td>\n",
              "      <td>insult</td>\n",
              "      <td>0.960158</td>\n",
              "      <td>0.953453</td>\n",
              "    </tr>\n",
              "    <tr>\n",
              "      <th>5</th>\n",
              "      <td>MultinomialNB</td>\n",
              "      <td>identity_hate</td>\n",
              "      <td>0.988887</td>\n",
              "      <td>0.983408</td>\n",
              "    </tr>\n",
              "    <tr>\n",
              "      <th>6</th>\n",
              "      <td>LogisticRegression</td>\n",
              "      <td>toxic</td>\n",
              "      <td>0.935728</td>\n",
              "      <td>0.937031</td>\n",
              "    </tr>\n",
              "    <tr>\n",
              "      <th>7</th>\n",
              "      <td>LogisticRegression</td>\n",
              "      <td>severe_toxic</td>\n",
              "      <td>0.993123</td>\n",
              "      <td>0.992762</td>\n",
              "    </tr>\n",
              "    <tr>\n",
              "      <th>8</th>\n",
              "      <td>LogisticRegression</td>\n",
              "      <td>obscene</td>\n",
              "      <td>0.965957</td>\n",
              "      <td>0.964267</td>\n",
              "    </tr>\n",
              "    <tr>\n",
              "      <th>9</th>\n",
              "      <td>LogisticRegression</td>\n",
              "      <td>threat</td>\n",
              "      <td>0.996530</td>\n",
              "      <td>0.995725</td>\n",
              "    </tr>\n",
              "    <tr>\n",
              "      <th>10</th>\n",
              "      <td>LogisticRegression</td>\n",
              "      <td>insult</td>\n",
              "      <td>0.964175</td>\n",
              "      <td>0.961200</td>\n",
              "    </tr>\n",
              "    <tr>\n",
              "      <th>11</th>\n",
              "      <td>LogisticRegression</td>\n",
              "      <td>identity_hate</td>\n",
              "      <td>0.990465</td>\n",
              "      <td>0.988378</td>\n",
              "    </tr>\n",
              "    <tr>\n",
              "      <th>12</th>\n",
              "      <td>LinearSVC</td>\n",
              "      <td>toxic</td>\n",
              "      <td>0.925037</td>\n",
              "      <td>0.929860</td>\n",
              "    </tr>\n",
              "    <tr>\n",
              "      <th>13</th>\n",
              "      <td>LinearSVC</td>\n",
              "      <td>severe_toxic</td>\n",
              "      <td>0.992982</td>\n",
              "      <td>0.992775</td>\n",
              "    </tr>\n",
              "    <tr>\n",
              "      <th>14</th>\n",
              "      <td>LinearSVC</td>\n",
              "      <td>obscene</td>\n",
              "      <td>0.962815</td>\n",
              "      <td>0.962684</td>\n",
              "    </tr>\n",
              "    <tr>\n",
              "      <th>15</th>\n",
              "      <td>LinearSVC</td>\n",
              "      <td>threat</td>\n",
              "      <td>0.996374</td>\n",
              "      <td>0.995989</td>\n",
              "    </tr>\n",
              "    <tr>\n",
              "      <th>16</th>\n",
              "      <td>LinearSVC</td>\n",
              "      <td>insult</td>\n",
              "      <td>0.961440</td>\n",
              "      <td>0.959917</td>\n",
              "    </tr>\n",
              "    <tr>\n",
              "      <th>17</th>\n",
              "      <td>LinearSVC</td>\n",
              "      <td>identity_hate</td>\n",
              "      <td>0.990497</td>\n",
              "      <td>0.989008</td>\n",
              "    </tr>\n",
              "  </tbody>\n",
              "</table>\n",
              "</div>"
            ],
            "text/plain": [
              "                 Model          Label    Recall        F1\n",
              "0        MultinomialNB          toxic  0.935196  0.930919\n",
              "1        MultinomialNB   severe_toxic  0.994436  0.992145\n",
              "2        MultinomialNB        obscene  0.962987  0.957902\n",
              "3        MultinomialNB         threat  0.996702  0.995056\n",
              "4        MultinomialNB         insult  0.960158  0.953453\n",
              "5        MultinomialNB  identity_hate  0.988887  0.983408\n",
              "6   LogisticRegression          toxic  0.935728  0.937031\n",
              "7   LogisticRegression   severe_toxic  0.993123  0.992762\n",
              "8   LogisticRegression        obscene  0.965957  0.964267\n",
              "9   LogisticRegression         threat  0.996530  0.995725\n",
              "10  LogisticRegression         insult  0.964175  0.961200\n",
              "11  LogisticRegression  identity_hate  0.990465  0.988378\n",
              "12           LinearSVC          toxic  0.925037  0.929860\n",
              "13           LinearSVC   severe_toxic  0.992982  0.992775\n",
              "14           LinearSVC        obscene  0.962815  0.962684\n",
              "15           LinearSVC         threat  0.996374  0.995989\n",
              "16           LinearSVC         insult  0.961440  0.959917\n",
              "17           LinearSVC  identity_hate  0.990497  0.989008"
            ]
          },
          "metadata": {
            "tags": []
          },
          "execution_count": 52
        }
      ]
    },
    {
      "cell_type": "code",
      "metadata": {
        "ExecuteTime": {
          "end_time": "2018-12-07T00:58:49.437427Z",
          "start_time": "2018-12-07T00:58:49.255720Z"
        },
        "scrolled": true,
        "id": "9o9EwlfVjMna",
        "colab": {
          "base_uri": "https://localhost:8080/",
          "height": 319
        },
        "outputId": "cbf4347a-6d6d-487b-fcac-05beb7a53bb1"
      },
      "source": [
        "# Visualizing F1 score results through box-plot.\n",
        "ax = sns.boxplot(x='Model', y='F1', data=methods, palette=\"Greens\")\n",
        "sns.stripplot(x='Model', y='F1', data=methods,\n",
        "              size=8, jitter=True, edgecolor=\"gray\", linewidth=2, palette=\"Greens\")\n",
        "ax.set_xticklabels(ax.get_xticklabels(), rotation=20)\n",
        "\n",
        "plt.show()"
      ],
      "execution_count": 73,
      "outputs": [
        {
          "output_type": "display_data",
          "data": {
            "image/png": "[encoded data removed]",
            "text/plain": [
              "<Figure size 432x288 with 1 Axes>"
            ]
          },
          "metadata": {
            "tags": []
          }
        }
      ]
    },
    {
      "cell_type": "markdown",
      "metadata": {
        "id": "lud5DPDmjMna"
      },
      "source": [
        "Above are the result table and plot showing a comparison between these different models after training them and see how these models perform on the test data.\n",
        "\n",
        "Notice that Muninomial Naive Bayes does not perform as well as the other two models while Linear SVC in general out performs the others based on F1 score."
      ]
    },
    {
      "cell_type": "markdown",
      "metadata": {
        "id": "5a5Xlf18jMnc"
      },
      "source": [
        "###  Confusion Matrix visualization"
      ]
    },
    {
      "cell_type": "code",
      "metadata": {
        "ExecuteTime": {
          "end_time": "2018-12-07T00:58:50.140631Z",
          "start_time": "2018-12-07T00:58:50.135030Z"
        },
        "id": "-tYkJyJXjMnc"
      },
      "source": [
        "def drawConfusionMatrix(cm):\n",
        "    \"\"\"\n",
        "    Plot Confusion matrix of input cm.\n",
        "    \"\"\"\n",
        "    cm = cm.astype('float')/cm.sum(axis=1)[:, np.newaxis]\n",
        "    ax = plt.axes()\n",
        "    sns.heatmap(cm,\n",
        "                annot=True,\n",
        "                annot_kws={\"size\": 16},\n",
        "                cmap=\"Greens\",\n",
        "                fmt='.2f',\n",
        "                linewidths=2,\n",
        "                linecolor='steelblue',\n",
        "                xticklabels=(\"No\", \"Yes\"),\n",
        "                yticklabels=(\"No\", \"Yes\"))\n",
        "\n",
        "    plt.ylabel('True', fontsize=18)\n",
        "    plt.xlabel('Predicted', fontsize=18)\n",
        "    plt.show()"
      ],
      "execution_count": 71,
      "outputs": []
    },
    {
      "cell_type": "code",
      "metadata": {
        "ExecuteTime": {
          "end_time": "2018-12-07T00:58:50.147170Z",
          "start_time": "2018-12-07T00:58:50.143627Z"
        },
        "id": "vf77fiKAjMnc"
      },
      "source": [
        "def Matrix(label):\n",
        "    \"\"\"\n",
        "    Plot Confusion matrix for each label and call function drawConfusionMatrix().\n",
        "    \"\"\"\n",
        "    print(f\"-------------- {label} labelling --------------\")\n",
        "    labels = {\"toxic\": 0, \"severe_toxic\": 1, \"obscene\": 2,\n",
        "              \"threat\": 3, \"insult\": 4, \"identity_hate\": 5}\n",
        "\n",
        "    pos = labels[label]\n",
        "    for i in range(pos, len(meth), 6):\n",
        "        print()\n",
        "        print(f\"--------------  {meth['Model'][i]}  --------------\")\n",
        "        cm = meth['Confusion_Matrix'][i]\n",
        "        drawConfusionMatrix(cm)"
      ],
      "execution_count": 56,
      "outputs": []
    },
    {
      "cell_type": "markdown",
      "metadata": {
        "id": "GqoDnpv9jMnc"
      },
      "source": [
        "Below shows the confusion matrix for label toxic. Notice that all models predict Non-toxic labels pretty well because most of our data are non-toxic. However, Multinomial NB tends to predict more toxic comments to non-toxic while Linear SVC is doing a great job in classifying toxic comments."
      ]
    },
    {
      "cell_type": "code",
      "metadata": {
        "ExecuteTime": {
          "end_time": "2018-12-07T00:58:55.452886Z",
          "start_time": "2018-12-07T00:58:50.149921Z"
        },
        "id": "NqaTQOGpjMnc",
        "colab": {
          "base_uri": "https://localhost:8080/",
          "height": 980
        },
        "outputId": "ca04612b-70c9-4996-8667-dbe344a65bb9"
      },
      "source": [
        "token = input('Choose a class for the Confusion Matrix: ')\n",
        "Matrix(token.lower())"
      ],
      "execution_count": 72,
      "outputs": [
        {
          "output_type": "stream",
          "text": [
            "Choose a class for the Confusion Matrix: toxic\n",
            "-------------- toxic labelling --------------\n",
            "\n",
            "--------------  MultinomialNB  --------------\n"
          ],
          "name": "stdout"
        },
        {
          "output_type": "display_data",
          "data": {
            "image/png": "[encoded data removed]",
            "text/plain": [
              "<Figure size 432x288 with 2 Axes>"
            ]
          },
          "metadata": {
            "tags": []
          }
        },
        {
          "output_type": "stream",
          "text": [
            "\n",
            "--------------  LogisticRegression  --------------\n"
          ],
          "name": "stdout"
        },
        {
          "output_type": "display_data",
          "data": {
            "image/png": "[encoded data removed]",
            "text/plain": [
              "<Figure size 432x288 with 2 Axes>"
            ]
          },
          "metadata": {
            "tags": []
          }
        },
        {
          "output_type": "stream",
          "text": [
            "\n",
            "--------------  LinearSVC  --------------\n"
          ],
          "name": "stdout"
        },
        {
          "output_type": "display_data",
          "data": {
            "image/png": "[encoded data removed]",
            "text/plain": [
              "<Figure size 432x288 with 2 Axes>"
            ]
          },
          "metadata": {
            "tags": []
          }
        }
      ]
    },
    {
      "cell_type": "markdown",
      "metadata": {
        "id": "c5GUKLOWjMnd"
      },
      "source": [
        "Based on the above comparison, we could say for default settings, LinearSVC performs better than anyone for 'toxic' label.\n",
        "\n",
        "\n"
      ]
    },
    {
      "cell_type": "markdown",
      "metadata": {
        "id": "LRCTzbtCjMnd"
      },
      "source": [
        "### Aggregated Hamming Loss Score\n"
      ]
    },
    {
      "cell_type": "code",
      "metadata": {
        "ExecuteTime": {
          "end_time": "2018-12-07T00:58:58.905710Z",
          "start_time": "2018-12-07T00:58:58.901034Z"
        },
        "id": "qCgnHLS7jMnd"
      },
      "source": [
        "# Creating a dataframe to summarize Hamming-loss\n",
        "hl1_df = pd.DataFrame(h1)\n",
        "hl2_df = pd.DataFrame(h2)\n",
        "hl3_df = pd.DataFrame(h3)"
      ],
      "execution_count": 58,
      "outputs": []
    },
    {
      "cell_type": "code",
      "metadata": {
        "ExecuteTime": {
          "end_time": "2018-12-07T00:59:00.811787Z",
          "start_time": "2018-12-07T00:59:00.800248Z"
        },
        "id": "0pvtVg2bjMnd",
        "colab": {
          "base_uri": "https://localhost:8080/",
          "height": 142
        },
        "outputId": "64fe8fa1-5f50-4399-e9ef-cdfd45d85302"
      },
      "source": [
        "hammingloss = pd.concat([hl1_df, hl2_df, hl3_df])\n",
        "hammingloss.columns = ['Model', 'Hamming_Loss']\n",
        "hl = hammingloss.reset_index()\n",
        "hl[['Model', 'Hamming_Loss']]"
      ],
      "execution_count": 59,
      "outputs": [
        {
          "output_type": "execute_result",
          "data": {
            "text/html": [
              "<div>\n",
              "<style scoped>\n",
              "    .dataframe tbody tr th:only-of-type {\n",
              "        vertical-align: middle;\n",
              "    }\n",
              "\n",
              "    .dataframe tbody tr th {\n",
              "        vertical-align: top;\n",
              "    }\n",
              "\n",
              "    .dataframe thead th {\n",
              "        text-align: right;\n",
              "    }\n",
              "</style>\n",
              "<table border=\"1\" class=\"dataframe\">\n",
              "  <thead>\n",
              "    <tr style=\"text-align: right;\">\n",
              "      <th></th>\n",
              "      <th>Model</th>\n",
              "      <th>Hamming_Loss</th>\n",
              "    </tr>\n",
              "  </thead>\n",
              "  <tbody>\n",
              "    <tr>\n",
              "      <th>0</th>\n",
              "      <td>MultinomialNB</td>\n",
              "      <td>0.026939</td>\n",
              "    </tr>\n",
              "    <tr>\n",
              "      <th>1</th>\n",
              "      <td>LogisticRegression</td>\n",
              "      <td>0.025670</td>\n",
              "    </tr>\n",
              "    <tr>\n",
              "      <th>2</th>\n",
              "      <td>LinearSVC</td>\n",
              "      <td>0.028476</td>\n",
              "    </tr>\n",
              "  </tbody>\n",
              "</table>\n",
              "</div>"
            ],
            "text/plain": [
              "                Model  Hamming_Loss\n",
              "0       MultinomialNB      0.026939\n",
              "1  LogisticRegression      0.025670\n",
              "2           LinearSVC      0.028476"
            ]
          },
          "metadata": {
            "tags": []
          },
          "execution_count": 59
        }
      ]
    },
    {
      "cell_type": "markdown",
      "metadata": {
        "id": "DyCccnSBjMnd"
      },
      "source": [
        "Across all models , **Logistic Regression** is doing a great job overall since it has the lowest percentage of incorrect labels."
      ]
    },
    {
      "cell_type": "markdown",
      "metadata": {
        "id": "L2nUAJX2jMne"
      },
      "source": [
        "### Pipelines\n",
        "Let's clean the code with pipeline and use some manually chosen hyperparameters to check how each model behaves. Since the greatest concern now is the imbalanced data, we decide to manually adjust class_weight for the models to see if we can achieve better results.\n",
        "\n",
        "Since Logistic Regression and Linear SVM are performing better, we will focus on these two models."
      ]
    },
    {
      "cell_type": "code",
      "metadata": {
        "ExecuteTime": {
          "end_time": "2018-12-07T01:18:39.811122Z",
          "start_time": "2018-12-07T01:18:39.807027Z"
        },
        "id": "AYv7ny2ZjMne"
      },
      "source": [
        "pipe_lr = Pipeline([\n",
        "    ('lr', LogisticRegression(class_weight=\"balanced\"))\n",
        "])\n",
        "\n",
        "pipe_linear_svm = Pipeline([\n",
        "    ('svm', LinearSVC(class_weight={1: 20}))\n",
        "])\n",
        "\n",
        "pipelines = [pipe_lr, pipe_linear_svm]"
      ],
      "execution_count": 60,
      "outputs": []
    },
    {
      "cell_type": "code",
      "metadata": {
        "ExecuteTime": {
          "end_time": "2018-12-07T01:19:25.878756Z",
          "start_time": "2018-12-07T01:18:40.491258Z"
        },
        "id": "jKwPR3-8jMne"
      },
      "source": [
        "score_df = []\n",
        "for pipe in pipelines: # iterating through different models\n",
        "    f1_values = []\n",
        "    recall_values = []\n",
        "    hl = []\n",
        "    training_time = []\n",
        "    predict_df = pd.DataFrame()\n",
        "    predict_df['id'] = test_y['id']\n",
        "    for label in test_labels:\n",
        "        start = timer() \n",
        "        pipe.fit(X_train, train[label]) # fitting the train data\n",
        "        train_time = timer() - start # calculating training time\n",
        "        predicted = pipe.predict(X_test)\n",
        "        predict_df[label] = predicted\n",
        "\n",
        "        f1_values.append(f1_score(\n",
        "            test_y[test_y[label] != -1][label], predicted[test_y[label] != -1], average=\"weighted\")) # calculating f1 score\n",
        "        recall_values.append(recall_score(\n",
        "            test_y[test_y[label] != -1][label], predicted[test_y[label] != -1], average=\"weighted\")) # calculating recall\n",
        "        training_time.append(train_time)\n",
        "        name = pipe.steps[-1][1].__class__.__name__.split('.')[-1] # getting came of the model\n",
        "\n",
        "    hamming_loss_score = hamming_loss(\n",
        "        test_y[test_y['toxic'] != -1].iloc[:, 1:7], predict_df[test_y['toxic'] != -1].iloc[:, 1:7]) # calculating hamming loss\n",
        "\n",
        "    val = [name, mean(f1_values), mean(recall_values),\n",
        "           hamming_loss_score, mean(training_time)]\n",
        "    score_df.append(val)"
      ],
      "execution_count": 61,
      "outputs": []
    },
    {
      "cell_type": "code",
      "metadata": {
        "ExecuteTime": {
          "end_time": "2018-12-07T00:59:52.852205Z",
          "start_time": "2018-12-07T00:59:52.840644Z"
        },
        "id": "W4tn7VDCjMne",
        "colab": {
          "base_uri": "https://localhost:8080/",
          "height": 111
        },
        "outputId": "7feb2436-ecc9-4033-83df-938e31ddf719"
      },
      "source": [
        "# creating data frames for scores of the models\n",
        "scores = pd.DataFrame(score_df,)\n",
        "scores.columns = ['Model', 'F1', 'Recall', 'Hamming_Loss', 'Training_Time']\n",
        "scores"
      ],
      "execution_count": 62,
      "outputs": [
        {
          "output_type": "execute_result",
          "data": {
            "text/html": [
              "<div>\n",
              "<style scoped>\n",
              "    .dataframe tbody tr th:only-of-type {\n",
              "        vertical-align: middle;\n",
              "    }\n",
              "\n",
              "    .dataframe tbody tr th {\n",
              "        vertical-align: top;\n",
              "    }\n",
              "\n",
              "    .dataframe thead th {\n",
              "        text-align: right;\n",
              "    }\n",
              "</style>\n",
              "<table border=\"1\" class=\"dataframe\">\n",
              "  <thead>\n",
              "    <tr style=\"text-align: right;\">\n",
              "      <th></th>\n",
              "      <th>Model</th>\n",
              "      <th>F1</th>\n",
              "      <th>Recall</th>\n",
              "      <th>Hamming_Loss</th>\n",
              "      <th>Training_Time</th>\n",
              "    </tr>\n",
              "  </thead>\n",
              "  <tbody>\n",
              "    <tr>\n",
              "      <th>0</th>\n",
              "      <td>LogisticRegression</td>\n",
              "      <td>0.947934</td>\n",
              "      <td>0.934074</td>\n",
              "      <td>0.065926</td>\n",
              "      <td>5.832178</td>\n",
              "    </tr>\n",
              "    <tr>\n",
              "      <th>1</th>\n",
              "      <td>LinearSVC</td>\n",
              "      <td>0.951508</td>\n",
              "      <td>0.941634</td>\n",
              "      <td>0.058366</td>\n",
              "      <td>8.005707</td>\n",
              "    </tr>\n",
              "  </tbody>\n",
              "</table>\n",
              "</div>"
            ],
            "text/plain": [
              "                Model        F1    Recall  Hamming_Loss  Training_Time\n",
              "0  LogisticRegression  0.947934  0.934074      0.065926       5.832178\n",
              "1           LinearSVC  0.951508  0.941634      0.058366       8.005707"
            ]
          },
          "metadata": {
            "tags": []
          },
          "execution_count": 62
        }
      ]
    },
    {
      "cell_type": "markdown",
      "metadata": {
        "id": "zIrAbSq9jMne"
      },
      "source": [
        "After adjusting class_weight, we are getting better results than the basic models. So we try to improve by tuning hyperparameter."
      ]
    },
    {
      "cell_type": "markdown",
      "metadata": {
        "id": "IrBMqvvIjMnf"
      },
      "source": [
        "## Hyperparameter Tuning with Grid Search "
      ]
    },
    {
      "cell_type": "markdown",
      "metadata": {
        "id": "6VDaJLYvjMnf"
      },
      "source": [
        "Now we use grid search to seek for the \"optimal\" hyperparameters for the basic models that we've chose. Since for each label it takes lot of time to calculate the parameters we use the most common lable 'toxic' to tune hyperparameters."
      ]
    },
    {
      "cell_type": "markdown",
      "metadata": {
        "id": "X_j-Xs2UjMnf"
      },
      "source": [
        "### Logistic Regression Tuning"
      ]
    },
    {
      "cell_type": "code",
      "metadata": {
        "ExecuteTime": {
          "end_time": "2018-12-07T01:42:36.510520Z",
          "start_time": "2018-12-07T01:41:52.477106Z"
        },
        "id": "rgozh-RNjMnf",
        "colab": {
          "base_uri": "https://localhost:8080/"
        },
        "outputId": "ff3e26f9-1ff8-47ea-c9a7-da7b5486550d"
      },
      "source": [
        "logistic_regression_classifier = LogisticRegression()\n",
        "\n",
        "parameter_grid = {'solver': ['newton-cg', 'lbfgs', 'liblinear'],\n",
        "                  'class_weight': [None, 'balanced']} # giving different values for different parameters\n",
        "\n",
        "cross_validation = StratifiedKFold(n_splits=5)\n",
        "\n",
        "grid_search = GridSearchCV(logistic_regression_classifier,\n",
        "                           param_grid=parameter_grid,\n",
        "                           cv=cross_validation,\n",
        "                           scoring='f1') # grid_search\n",
        "\n",
        "grid_search.fit(X_train, train['toxic']) # fitting the train data\n",
        "\n",
        "print('Best parameters: {}'.format(grid_search.best_params_))\n",
        "\n",
        "grid_search.best_estimator_ # Getting best parameters"
      ],
      "execution_count": 63,
      "outputs": [
        {
          "output_type": "stream",
          "text": [
            "Best parameters: {'class_weight': None, 'solver': 'liblinear'}\n"
          ],
          "name": "stdout"
        },
        {
          "output_type": "execute_result",
          "data": {
            "text/plain": [
              "LogisticRegression(C=1.0, class_weight=None, dual=False, fit_intercept=True,\n",
              "                   intercept_scaling=1, l1_ratio=None, max_iter=100,\n",
              "                   multi_class='auto', n_jobs=None, penalty='l2',\n",
              "                   random_state=None, solver='liblinear', tol=0.0001, verbose=0,\n",
              "                   warm_start=False)"
            ]
          },
          "metadata": {
            "tags": []
          },
          "execution_count": 63
        }
      ]
    },
    {
      "cell_type": "markdown",
      "metadata": {
        "id": "nEZ7yoEajMnf"
      },
      "source": [
        "### SVM Classifier Tuning"
      ]
    },
    {
      "cell_type": "code",
      "metadata": {
        "id": "4BnDUjA_jMng",
        "colab": {
          "base_uri": "https://localhost:8080/"
        },
        "outputId": "4829a61d-6ad6-478c-fc06-3235918a3b7c"
      },
      "source": [
        "svm_classifier = LinearSVC()\n",
        "\n",
        "parameter_grid = {'class_weight': [None, 'balanced'],\n",
        "                  'C': [1, 5, 10]}\n",
        "\n",
        "cross_validation = StratifiedKFold(n_splits=5)\n",
        "\n",
        "grid_search = GridSearchCV(svm_classifier,\n",
        "                           param_grid=parameter_grid,\n",
        "                           cv=cross_validation,\n",
        "                           scoring='f1')\n",
        "\n",
        "grid_search.fit(X_train, train['toxic'])\n",
        "\n",
        "print('Best parameters: {}'.format(grid_search.best_params_))\n",
        "\n",
        "grid_search.best_estimator_"
      ],
      "execution_count": 64,
      "outputs": [
        {
          "output_type": "stream",
          "text": [
            "Best parameters: {'C': 1, 'class_weight': None}\n"
          ],
          "name": "stdout"
        },
        {
          "output_type": "execute_result",
          "data": {
            "text/plain": [
              "LinearSVC(C=1, class_weight=None, dual=True, fit_intercept=True,\n",
              "          intercept_scaling=1, loss='squared_hinge', max_iter=1000,\n",
              "          multi_class='ovr', penalty='l2', random_state=None, tol=0.0001,\n",
              "          verbose=0)"
            ]
          },
          "metadata": {
            "tags": []
          },
          "execution_count": 64
        }
      ]
    },
    {
      "cell_type": "markdown",
      "metadata": {
        "id": "Y4_4BFN9jMng"
      },
      "source": [
        "###  Model Selection"
      ]
    },
    {
      "cell_type": "markdown",
      "metadata": {
        "id": "DYGg-GOtjMng"
      },
      "source": [
        "We will then compare these two models based on their tunned hyperparameters, we will also include training time as one of the metric when we compare models."
      ]
    },
    {
      "cell_type": "code",
      "metadata": {
        "id": "7IPIoOphjMng"
      },
      "source": [
        "svm_clf = LinearSVC(C=1, class_weight=None, dual=True, fit_intercept=True,\n",
        "          intercept_scaling=1, loss='squared_hinge', max_iter=1000,\n",
        "          multi_class='ovr', penalty='l2', random_state=None, tol=0.0001,\n",
        "          verbose=0)\n",
        "\n",
        "lr_clf = LogisticRegression(C=1.0, class_weight=None, dual=False, fit_intercept=True,\n",
        "                   intercept_scaling=1, l1_ratio=None, max_iter=100,\n",
        "                   multi_class='auto', n_jobs=None, penalty='l2',\n",
        "                   random_state=None, solver='liblinear', tol=0.0001, verbose=0,\n",
        "                   warm_start=False)\n",
        "\n",
        "tunned_model_score_df = []\n",
        "# evaluating both models by calculating training time, hamming loss, f1 score and recall\n",
        "for model in [svm_clf, lr_clf]:\n",
        "    f1_values = []\n",
        "    recall_values = []\n",
        "    hl = []\n",
        "    training_time = []\n",
        "    predict_df = pd.DataFrame()\n",
        "    predict_df['id'] = test_y['id']\n",
        "\n",
        "    for label in test_labels:\n",
        "        start = timer()\n",
        "        model.fit(X_train, train[label])\n",
        "        training_time.append(timer() - start)\n",
        "        predicted = model.predict(X_test)\n",
        "        predict_df[label] = predicted\n",
        "\n",
        "        f1_values.append(f1_score(test_y[test_y[label] != -1][label],\n",
        "                                  predicted[test_y[label] != -1],\n",
        "                                  average=\"weighted\"))\n",
        "        recall_values.append(recall_score(test_y[test_y[label] != -1][label],\n",
        "                                          predicted[test_y[label] != -1],\n",
        "                                          average=\"weighted\"))\n",
        "        name = model.__class__.__name__\n",
        "\n",
        "    hamming_loss_score = hamming_loss(test_y[test_y['toxic'] != -1].iloc[:, 1:7],\n",
        "                                      predict_df[test_y['toxic'] != -1].iloc[:, 1:7])\n",
        "\n",
        "    val = [name, mean(f1_values), mean(recall_values),\n",
        "           hamming_loss_score, sum(training_time)]\n",
        "\n",
        "    tunned_model_score_df.append(val)"
      ],
      "execution_count": 65,
      "outputs": []
    },
    {
      "cell_type": "code",
      "metadata": {
        "id": "R2VoFGimjMng",
        "colab": {
          "base_uri": "https://localhost:8080/",
          "height": 111
        },
        "outputId": "e4fa3888-6d66-44db-b0c1-707394ec34ee"
      },
      "source": [
        "tunned_scores = pd.DataFrame(tunned_model_score_df,)\n",
        "tunned_scores.columns = ['Model', 'F1',\n",
        "                         'Recall', 'Hamming_Loss', 'Traing_Time']\n",
        "tunned_scores"
      ],
      "execution_count": 66,
      "outputs": [
        {
          "output_type": "execute_result",
          "data": {
            "text/html": [
              "<div>\n",
              "<style scoped>\n",
              "    .dataframe tbody tr th:only-of-type {\n",
              "        vertical-align: middle;\n",
              "    }\n",
              "\n",
              "    .dataframe tbody tr th {\n",
              "        vertical-align: top;\n",
              "    }\n",
              "\n",
              "    .dataframe thead th {\n",
              "        text-align: right;\n",
              "    }\n",
              "</style>\n",
              "<table border=\"1\" class=\"dataframe\">\n",
              "  <thead>\n",
              "    <tr style=\"text-align: right;\">\n",
              "      <th></th>\n",
              "      <th>Model</th>\n",
              "      <th>F1</th>\n",
              "      <th>Recall</th>\n",
              "      <th>Hamming_Loss</th>\n",
              "      <th>Traing_Time</th>\n",
              "    </tr>\n",
              "  </thead>\n",
              "  <tbody>\n",
              "    <tr>\n",
              "      <th>0</th>\n",
              "      <td>LinearSVC</td>\n",
              "      <td>0.971706</td>\n",
              "      <td>0.971524</td>\n",
              "      <td>0.028476</td>\n",
              "      <td>5.040865</td>\n",
              "    </tr>\n",
              "    <tr>\n",
              "      <th>1</th>\n",
              "      <td>LogisticRegression</td>\n",
              "      <td>0.973220</td>\n",
              "      <td>0.974325</td>\n",
              "      <td>0.025675</td>\n",
              "      <td>8.879947</td>\n",
              "    </tr>\n",
              "  </tbody>\n",
              "</table>\n",
              "</div>"
            ],
            "text/plain": [
              "                Model        F1    Recall  Hamming_Loss  Traing_Time\n",
              "0           LinearSVC  0.971706  0.971524      0.028476     5.040865\n",
              "1  LogisticRegression  0.973220  0.974325      0.025675     8.879947"
            ]
          },
          "metadata": {
            "tags": []
          },
          "execution_count": 66
        }
      ]
    }
  ]
}